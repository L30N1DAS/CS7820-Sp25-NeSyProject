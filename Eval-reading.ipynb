{
 "cells": [
  {
   "cell_type": "code",
   "execution_count": 9,
   "id": "a8bbf663-2f79-4052-bed6-7f5c682dbe00",
   "metadata": {},
   "outputs": [
    {
     "name": "stdout",
     "output_type": "stream",
     "text": [
      "Defaulting to user installation because normal site-packages is not writeable\n",
      "Requirement already satisfied: textstat in /root/.local/lib/python3.10/site-packages (0.7.5)\n",
      "Requirement already satisfied: pyphen in /root/.local/lib/python3.10/site-packages (from textstat) (0.17.2)\n",
      "Requirement already satisfied: cmudict in /root/.local/lib/python3.10/site-packages (from textstat) (1.0.32)\n",
      "Requirement already satisfied: setuptools in /usr/lib/python3/dist-packages (from textstat) (59.6.0)\n",
      "Requirement already satisfied: importlib-metadata>=5 in /root/.local/lib/python3.10/site-packages (from cmudict->textstat) (8.6.1)\n",
      "Requirement already satisfied: importlib-resources>=5 in /root/.local/lib/python3.10/site-packages (from cmudict->textstat) (6.5.2)\n",
      "Requirement already satisfied: zipp>=3.20 in /root/.local/lib/python3.10/site-packages (from importlib-metadata>=5->cmudict->textstat) (3.21.0)\n",
      "\u001b[33mWARNING: Running pip as the 'root' user can result in broken permissions and conflicting behaviour with the system package manager, possibly rendering your system unusable.It is recommended to use a virtual environment instead: https://pip.pypa.io/warnings/venv. Use the --root-user-action option if you know what you are doing and want to suppress this warning.\u001b[0m\u001b[33m\n",
      "\u001b[0m\n",
      "\u001b[1m[\u001b[0m\u001b[34;49mnotice\u001b[0m\u001b[1;39;49m]\u001b[0m\u001b[39;49m A new release of pip is available: \u001b[0m\u001b[31;49m24.3.1\u001b[0m\u001b[39;49m -> \u001b[0m\u001b[32;49m25.0.1\u001b[0m\n",
      "\u001b[1m[\u001b[0m\u001b[34;49mnotice\u001b[0m\u001b[1;39;49m]\u001b[0m\u001b[39;49m To update, run: \u001b[0m\u001b[32;49mpython3 -m pip install --upgrade pip\u001b[0m\n"
     ]
    }
   ],
   "source": [
    "!pip install textstat"
   ]
  },
  {
   "cell_type": "code",
   "execution_count": 10,
   "id": "a59ae941-7e40-4004-97e6-3a616997b440",
   "metadata": {},
   "outputs": [],
   "source": [
    "import openpyxl\n",
    "\n",
    "# Load the workbook\n",
    "workbook_path = 'Questions_generated.xlsx'  # Replace with your actual file path\n",
    "wb = openpyxl.load_workbook(workbook_path)"
   ]
  },
  {
   "cell_type": "code",
   "execution_count": 11,
   "id": "e1a34035-1b65-4440-8edd-b23b523d565a",
   "metadata": {},
   "outputs": [],
   "source": [
    "import textstat\n",
    "def calculate_flesch_reading_ease(text):\n",
    "    \"\"\"Calculates the Flesch Reading Ease score for given text.\"\"\"\n",
    "    if text:\n",
    "        flesch_score = textstat.flesch_reading_ease(text)\n",
    "        return flesch_score\n",
    "    return None\n",
    "\n",
    "def calculate_flesch_kincaid_grade(text):\n",
    "    \"\"\"Calculates the Flesch-Kincaid Grade Level for given text.\"\"\"\n",
    "    if text:\n",
    "        fk_grade = textstat.flesch_kincaid_grade(text)\n",
    "        return fk_grade\n",
    "    return None"
   ]
  },
  {
   "cell_type": "code",
   "execution_count": 12,
   "id": "9a5ef5f5-ebfb-472c-801f-b6a122d4be4f",
   "metadata": {},
   "outputs": [],
   "source": [
    "def get_merged_cell_value(ws, cell):\n",
    "    # Check if the cell is part of a merged range\n",
    "    for merged_range in ws.merged_cells.ranges:\n",
    "        if cell.coordinate in merged_range:\n",
    "            # Return the value from the top-left cell of the merged range\n",
    "            return ws.cell(merged_range.min_row, merged_range.min_col).value\n",
    "    return cell.value"
   ]
  },
  {
   "cell_type": "code",
   "execution_count": 22,
   "id": "c89a7440-0cb1-4a79-b371-76a47d5ab654",
   "metadata": {},
   "outputs": [
    {
     "name": "stdout",
     "output_type": "stream",
     "text": [
      "\n",
      "Sheet: PS1\n",
      "\n",
      "Sheet: PS2\n",
      "\n",
      "Sheet: PS3\n",
      "\n",
      "Sheet: PS4\n",
      "\n",
      "Sheet: PS5\n"
     ]
    }
   ],
   "source": [
    "import csv\n",
    "# Iterate over all sheets in the workbook\n",
    "for sheet_name in wb.sheetnames:\n",
    "    ws = wb[sheet_name]\n",
    "    print(f\"\\nSheet: {sheet_name}\")\n",
    "    with open(f\"small_eval_{sheet_name}.csv\", \"w\", newline=\"\") as file:\n",
    "        writer = csv.writer(file)\n",
    "    \n",
    "        for row in ws.iter_rows(min_row=2, max_col=5, max_row = 715):\n",
    "            index = row[0].value  \n",
    "            col_b_cell = row[1] if len(row) > 1 else None  \n",
    "            prompt = get_merged_cell_value(ws, col_b_cell) if col_b_cell else None\n",
    "            question = row[3].value  \n",
    "            temp = []\n",
    "            temp.append((index,prompt,row[2],question,calculate_flesch_kincaid_grade(question), calculate_flesch_reading_ease(question)))\n",
    "            writer.writerow(temp)"
   ]
  },
  {
   "cell_type": "code",
   "execution_count": 23,
   "id": "476a6426-dbc6-4be7-9eb8-1de263a1e194",
   "metadata": {},
   "outputs": [],
   "source": [
    "import openpyxl\n",
    "\n",
    "# Load the workbook\n",
    "workbook_path = 'large_Questions.xlsx'  # Replace with your actual file path\n",
    "wb = openpyxl.load_workbook(workbook_path)"
   ]
  },
  {
   "cell_type": "code",
   "execution_count": 24,
   "id": "63b74c1c-2701-4653-9b2a-69abd0aaf91f",
   "metadata": {},
   "outputs": [
    {
     "name": "stdout",
     "output_type": "stream",
     "text": [
      "\n",
      "Sheet: PS1\n",
      "\n",
      "Sheet: PS2\n",
      "\n",
      "Sheet: PS3\n",
      "\n",
      "Sheet: PS4\n",
      "\n",
      "Sheet: PS5\n"
     ]
    }
   ],
   "source": [
    "import csv\n",
    "# Iterate over all sheets in the workbook\n",
    "for sheet_name in wb.sheetnames:\n",
    "    ws = wb[sheet_name]\n",
    "    print(f\"\\nSheet: {sheet_name}\")\n",
    "    with open(f\"large_eval_{sheet_name}.csv\", \"w\", newline=\"\") as file:\n",
    "        writer = csv.writer(file)\n",
    "    \n",
    "        for row in ws.iter_rows(min_row=2, max_col=5, max_row = 715):\n",
    "            index = row[0].value  \n",
    "            col_b_cell = row[1] if len(row) > 1 else None  \n",
    "            prompt = get_merged_cell_value(ws, col_b_cell) if col_b_cell else None\n",
    "            question = row[3].value  \n",
    "            temp = []\n",
    "            temp.append((index,prompt,row[2],question,calculate_flesch_kincaid_grade(question), calculate_flesch_reading_ease(question)))\n",
    "            writer.writerow(temp)"
   ]
  },
  {
   "cell_type": "code",
   "execution_count": null,
   "id": "d5ecc105-0b20-4574-aa6a-96e905033d9b",
   "metadata": {},
   "outputs": [],
   "source": []
  }
 ],
 "metadata": {
  "kernelspec": {
   "display_name": "Python 3 (ipykernel)",
   "language": "python",
   "name": "python3"
  },
  "language_info": {
   "codemirror_mode": {
    "name": "ipython",
    "version": 3
   },
   "file_extension": ".py",
   "mimetype": "text/x-python",
   "name": "python",
   "nbconvert_exporter": "python",
   "pygments_lexer": "ipython3",
   "version": "3.10.12"
  }
 },
 "nbformat": 4,
 "nbformat_minor": 5
}
